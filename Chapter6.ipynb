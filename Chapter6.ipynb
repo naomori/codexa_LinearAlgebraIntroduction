{
  "nbformat": 4,
  "nbformat_minor": 0,
  "metadata": {
    "colab": {
      "name": "Chapter6.ipynb",
      "version": "0.3.2",
      "provenance": [],
      "include_colab_link": true
    },
    "kernelspec": {
      "name": "python3",
      "display_name": "Python 3"
    }
  },
  "cells": [
    {
      "cell_type": "markdown",
      "metadata": {
        "id": "view-in-github",
        "colab_type": "text"
      },
      "source": [
        "<a href=\"https://colab.research.google.com/github/naomori/codexa_LinearAlgebraIntroduction/blob/master/Chapter6.ipynb\" target=\"_parent\"><img src=\"https://colab.research.google.com/assets/colab-badge.svg\" alt=\"Open In Colab\"/></a>"
      ]
    },
    {
      "cell_type": "markdown",
      "metadata": {
        "id": "h1fJYF27KwbK",
        "colab_type": "text"
      },
      "source": [
        "# 行列と行列の掛け算"
      ]
    },
    {
      "cell_type": "code",
      "metadata": {
        "id": "RtrOD_SULBvB",
        "colab_type": "code",
        "colab": {}
      },
      "source": [
        "import numpy as np"
      ],
      "execution_count": 0,
      "outputs": []
    },
    {
      "cell_type": "code",
      "metadata": {
        "id": "nbyHoPlCKr_d",
        "colab_type": "code",
        "colab": {
          "base_uri": "https://localhost:8080/",
          "height": 156
        },
        "outputId": "f632e21a-d229-4851-e896-1776f171657f"
      },
      "source": [
        "a = np.array([[1,3], [6,1], [2,0]])\n",
        "b = np.array(([0,2], [11,7]))\n",
        "c = np.dot(a, b)\n",
        "\n",
        "print(a)\n",
        "print(b)\n",
        "print(c)"
      ],
      "execution_count": 3,
      "outputs": [
        {
          "output_type": "stream",
          "text": [
            "[[1 3]\n",
            " [6 1]\n",
            " [2 0]]\n",
            "[[ 0  2]\n",
            " [11  7]]\n",
            "[[33 23]\n",
            " [11 19]\n",
            " [ 0  4]]\n"
          ],
          "name": "stdout"
        }
      ]
    },
    {
      "cell_type": "code",
      "metadata": {
        "id": "mesqpmwxK-iE",
        "colab_type": "code",
        "colab": {
          "base_uri": "https://localhost:8080/",
          "height": 191
        },
        "outputId": "7998d767-b98a-4952-c442-d9ad70944e95"
      },
      "source": [
        "d = np.array([[2,1,0], [9,6,2]])\n",
        "e = np.array([[8,0,2], [1,3,1], [7,4,0]])\n",
        "f = np.dot(d, e)\n",
        "\n",
        "print(d)\n",
        "print(d.shape)\n",
        "print(e)\n",
        "print(e.shape)\n",
        "print(f)\n",
        "print(f.shape)"
      ],
      "execution_count": 5,
      "outputs": [
        {
          "output_type": "stream",
          "text": [
            "[[2 1 0]\n",
            " [9 6 2]]\n",
            "(2, 3)\n",
            "[[8 0 2]\n",
            " [1 3 1]\n",
            " [7 4 0]]\n",
            "(3, 3)\n",
            "[[17  3  5]\n",
            " [92 26 24]]\n",
            "(2, 3)\n"
          ],
          "name": "stdout"
        }
      ]
    },
    {
      "cell_type": "markdown",
      "metadata": {
        "id": "P0JZTHeBMk_J",
        "colab_type": "text"
      },
      "source": [
        "# 例題\n",
        "\n",
        "身長から体重を求めてみる\n",
        "\n",
        "| 名前 | 身長 |\n",
        "|---|--|\n",
        "|A| 180cm |\n",
        "|B| 176cm|\n",
        "|C|156cm|\n",
        "|D|160cm|\n",
        "\n",
        "1. $h_\\theta(x) = 15 + 0.32x$\n",
        "2. $h_\\theta(x) = 8 + 0.43x$\n",
        "3. $h_\\theta(x) = -7 + 0.62x$"
      ]
    },
    {
      "cell_type": "code",
      "metadata": {
        "id": "8jFfKjqUL5l3",
        "colab_type": "code",
        "colab": {
          "base_uri": "https://localhost:8080/",
          "height": 191
        },
        "outputId": "8471371c-89c0-4803-f393-6b9dba1ed23e"
      },
      "source": [
        "height = np.array([[1,180], [1,176], [1,156], [1,160]])\n",
        "hx = np.array([[15, 8, -7], [0.32, 0.43, 0.62]])\n",
        "\n",
        "weight = np.dot(height, hx)\n",
        "\n",
        "print(height)\n",
        "print(hx)\n",
        "print(weight)"
      ],
      "execution_count": 9,
      "outputs": [
        {
          "output_type": "stream",
          "text": [
            "[[  1 180]\n",
            " [  1 176]\n",
            " [  1 156]\n",
            " [  1 160]]\n",
            "[[15.    8.   -7.  ]\n",
            " [ 0.32  0.43  0.62]]\n",
            "[[ 72.6   85.4  104.6 ]\n",
            " [ 71.32  83.68 102.12]\n",
            " [ 64.92  75.08  89.72]\n",
            " [ 66.2   76.8   92.2 ]]\n"
          ],
          "name": "stdout"
        }
      ]
    },
    {
      "cell_type": "code",
      "metadata": {
        "id": "sajtbv1-NLhD",
        "colab_type": "code",
        "colab": {}
      },
      "source": [
        ""
      ],
      "execution_count": 0,
      "outputs": []
    }
  ]
}