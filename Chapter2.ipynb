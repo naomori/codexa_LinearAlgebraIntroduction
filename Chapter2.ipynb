{
  "nbformat": 4,
  "nbformat_minor": 0,
  "metadata": {
    "colab": {
      "name": "Chapter2.ipynb",
      "version": "0.3.2",
      "provenance": [],
      "include_colab_link": true
    },
    "kernelspec": {
      "name": "python3",
      "display_name": "Python 3"
    }
  },
  "cells": [
    {
      "cell_type": "markdown",
      "metadata": {
        "id": "view-in-github",
        "colab_type": "text"
      },
      "source": [
        "<a href=\"https://colab.research.google.com/github/naomori/codexa_LinearAlgebraIntroduction/blob/master/Chapter2.ipynb\" target=\"_parent\"><img src=\"https://colab.research.google.com/assets/colab-badge.svg\" alt=\"Open In Colab\"/></a>"
      ]
    },
    {
      "cell_type": "markdown",
      "metadata": {
        "id": "i1QwSPzdBsed",
        "colab_type": "text"
      },
      "source": [
        "# Numpy のインストールと環境構築（オプション）\n",
        "\n",
        "Anaconda, Miniconda, pyenv などで環境構築ができます。  \n",
        "また、Google Colaboratory を使うこともできます。\n",
        "\n",
        "Google Colaborary を使うのがとても簡単なので、\n",
        "この Chapter は skip することにします。"
      ]
    },
    {
      "cell_type": "code",
      "metadata": {
        "id": "jISirDWuBpmj",
        "colab_type": "code",
        "colab": {}
      },
      "source": [
        ""
      ],
      "execution_count": 0,
      "outputs": []
    }
  ]
}