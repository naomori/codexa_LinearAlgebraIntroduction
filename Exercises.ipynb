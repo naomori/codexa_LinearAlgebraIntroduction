{
  "nbformat": 4,
  "nbformat_minor": 0,
  "metadata": {
    "colab": {
      "name": "Exercises.ipynb",
      "version": "0.3.2",
      "provenance": [],
      "include_colab_link": true
    },
    "kernelspec": {
      "name": "python3",
      "display_name": "Python 3"
    }
  },
  "cells": [
    {
      "cell_type": "markdown",
      "metadata": {
        "id": "view-in-github",
        "colab_type": "text"
      },
      "source": [
        "<a href=\"https://colab.research.google.com/github/naomori/codexa_LinearAlgebraIntroduction/blob/master/Exercises.ipynb\" target=\"_parent\"><img src=\"https://colab.research.google.com/assets/colab-badge.svg\" alt=\"Open In Colab\"/></a>"
      ]
    },
    {
      "cell_type": "markdown",
      "metadata": {
        "id": "XeONeVHNYFnZ",
        "colab_type": "text"
      },
      "source": [
        "# Exercises\n",
        "\n",
        "## Question.1\n",
        "\n",
        "下記の行列Aと行列Bにおいて、行列の要素$A_{23}$および、$B_{14}$の正しい組み合わせを選びなさい。\n",
        "\n",
        "$A = \n",
        "\\begin{pmatrix}\n",
        "3 & 1 & 8 \\\\\n",
        "2 & 6 & 11 \\\\\n",
        "4 & 5 & 0\n",
        "\\end{pmatrix}$\n",
        "\n",
        "$B = \n",
        "\\begin{pmatrix}\n",
        "1 & 11 & 5 & 11 \\\\\n",
        "3 & 1 & 2 & 6 \\\\\n",
        "4 & 2 & 9 & 7 \\\\\n",
        "5 & 8 & 4 & 1\n",
        "\\end{pmatrix}$\n"
      ]
    },
    {
      "cell_type": "markdown",
      "metadata": {
        "id": "q2sddAQyZ2Ox",
        "colab_type": "text"
      },
      "source": [
        "**C**: $A_{23} = 11$, $B_{14} = 11$"
      ]
    },
    {
      "cell_type": "markdown",
      "metadata": {
        "id": "pA6INgNZaDK2",
        "colab_type": "text"
      },
      "source": [
        "# Question.2\n",
        "\n",
        "$\\begin{pmatrix}\n",
        "1 & 3 \\\\\n",
        "7 & 1\n",
        "\\end{pmatrix} + \n",
        "\\begin{pmatrix}\n",
        "2 & 1 \\\\\n",
        "5 & 6\n",
        "\\end{pmatrix} +\n",
        "\\begin{pmatrix}\n",
        "4 & 2 \\\\\n",
        "6 & 10\n",
        "\\end{pmatrix} \\div 2$"
      ]
    },
    {
      "cell_type": "code",
      "metadata": {
        "id": "4p61Em7gYElD",
        "colab_type": "code",
        "colab": {
          "base_uri": "https://localhost:8080/",
          "height": 52
        },
        "outputId": "7778a607-9a7c-4a9a-90a3-8e7d50703e12"
      },
      "source": [
        "import numpy as np\n",
        "a = np.array([[1,3], [7,1]])\n",
        "b = np.array([[2,1], [5,6]])\n",
        "c = np.array([[4,2], [6,10]])\n",
        "d = a + b - c/2\n",
        "print(d)"
      ],
      "execution_count": 2,
      "outputs": [
        {
          "output_type": "stream",
          "text": [
            "[[1. 3.]\n",
            " [9. 2.]]\n"
          ],
          "name": "stdout"
        }
      ]
    },
    {
      "cell_type": "markdown",
      "metadata": {
        "id": "9rfo0La_bi-A",
        "colab_type": "text"
      },
      "source": [
        "**C**: $\\begin{pmatrix}\n",
        "1 & 3 \\\\\n",
        "9 & 2\n",
        "\\end{pmatrix}$"
      ]
    },
    {
      "cell_type": "markdown",
      "metadata": {
        "id": "pifYG8gUbxo4",
        "colab_type": "text"
      },
      "source": [
        "## Question.3\n",
        "\n",
        "$\\begin{pmatrix}\n",
        "2 & 5 & 7 \\\\\n",
        "1 & 3 & 2\n",
        "\\end{pmatrix} \\times\n",
        "\\begin{pmatrix}\n",
        "2 & 3 \\\\\n",
        "1 & 5 \\\\\n",
        "8 & 4\n",
        "\\end{pmatrix}$"
      ]
    },
    {
      "cell_type": "code",
      "metadata": {
        "id": "JKEPOn12bQ8H",
        "colab_type": "code",
        "colab": {
          "base_uri": "https://localhost:8080/",
          "height": 52
        },
        "outputId": "5f2b9587-e113-428b-f1d0-6f4939bf0450"
      },
      "source": [
        "a = np.array([[2,5,7], [1,3,2]])\n",
        "b = np.array([[2,3], [1,5], [8,4]])\n",
        "print(a.dot(b))"
      ],
      "execution_count": 3,
      "outputs": [
        {
          "output_type": "stream",
          "text": [
            "[[65 59]\n",
            " [21 26]]\n"
          ],
          "name": "stdout"
        }
      ]
    },
    {
      "cell_type": "markdown",
      "metadata": {
        "id": "iRvEsRL_cNA4",
        "colab_type": "text"
      },
      "source": [
        "**D**: $\\begin{pmatrix}\n",
        "65 & 59 \\\\\n",
        "21 & 26\n",
        "\\end{pmatrix}$"
      ]
    },
    {
      "cell_type": "markdown",
      "metadata": {
        "id": "KPOCDG3KcW5b",
        "colab_type": "text"
      },
      "source": [
        "## Question.4\n",
        "\n",
        "$A =\n",
        "\\begin{pmatrix}\\\n",
        "1 & 2 \\\\\n",
        "3 & 4\n",
        "\\end{pmatrix}$\n",
        "$B =\n",
        "\\begin{pmatrix}\n",
        "5 & 6\\\\\n",
        "7 & 8\n",
        "\\end{pmatrix}$\n",
        "$C =\n",
        "\\begin{pmatrix}\n",
        "1 & 0\\\\\n",
        "0 & 1\n",
        "\\end{pmatrix}$"
      ]
    },
    {
      "cell_type": "markdown",
      "metadata": {
        "id": "DGAZNMdecv65",
        "colab_type": "text"
      },
      "source": [
        ""
      ]
    },
    {
      "cell_type": "code",
      "metadata": {
        "id": "BYMmi95EcLiX",
        "colab_type": "code",
        "colab": {
          "base_uri": "https://localhost:8080/",
          "height": 121
        },
        "outputId": "59d1df18-e2dc-4ed0-90fe-7103374fd59c"
      },
      "source": [
        "a = np.array([[1,2], [3,4]])\n",
        "b = np.array([[5,6], [7,8]])\n",
        "c = np.eye(2)\n",
        "print(a)\n",
        "print(b)\n",
        "print(c)"
      ],
      "execution_count": 4,
      "outputs": [
        {
          "output_type": "stream",
          "text": [
            "[[1 2]\n",
            " [3 4]]\n",
            "[[5 6]\n",
            " [7 8]]\n",
            "[[1. 0.]\n",
            " [0. 1.]]\n"
          ],
          "name": "stdout"
        }
      ]
    },
    {
      "cell_type": "code",
      "metadata": {
        "id": "z_pDwSm3dOxq",
        "colab_type": "code",
        "colab": {
          "base_uri": "https://localhost:8080/",
          "height": 86
        },
        "outputId": "021c5b83-3919-4597-b355-4f700211cbc7"
      },
      "source": [
        "# A\n",
        "print(a.dot(b))\n",
        "print(b.dot(a))"
      ],
      "execution_count": 5,
      "outputs": [
        {
          "output_type": "stream",
          "text": [
            "[[19 22]\n",
            " [43 50]]\n",
            "[[23 34]\n",
            " [31 46]]\n"
          ],
          "name": "stdout"
        }
      ]
    },
    {
      "cell_type": "code",
      "metadata": {
        "id": "XfGZHwx5dU1q",
        "colab_type": "code",
        "colab": {
          "base_uri": "https://localhost:8080/",
          "height": 86
        },
        "outputId": "b1591501-0177-46ff-c3ab-dd1e474c1042"
      },
      "source": [
        "# B\n",
        "d = a.dot(b)\n",
        "f = b.dot(c)\n",
        "print(d.dot(c))\n",
        "print(a.dot(f))\n"
      ],
      "execution_count": 6,
      "outputs": [
        {
          "output_type": "stream",
          "text": [
            "[[19. 22.]\n",
            " [43. 50.]]\n",
            "[[19. 22.]\n",
            " [43. 50.]]\n"
          ],
          "name": "stdout"
        }
      ]
    },
    {
      "cell_type": "markdown",
      "metadata": {
        "id": "RnFu2URwdneO",
        "colab_type": "text"
      },
      "source": [
        "**A**が正しくない"
      ]
    },
    {
      "cell_type": "markdown",
      "metadata": {
        "id": "8HGJXN42ds5f",
        "colab_type": "text"
      },
      "source": [
        "## Question.5\n",
        "\n",
        "$A =\n",
        "\\begin{pmatrix}\n",
        "1 & 5 & 2 \\\\\n",
        "6 & 3 & 9 \\\\\n",
        "2 & 7 & 1\n",
        "\\end{pmatrix}$"
      ]
    },
    {
      "cell_type": "code",
      "metadata": {
        "id": "m8k7Olc3dff-",
        "colab_type": "code",
        "colab": {
          "base_uri": "https://localhost:8080/",
          "height": 121
        },
        "outputId": "8d7693e1-04ea-448e-dffb-c9b7fac1dbf4"
      },
      "source": [
        "a = np.array([[1,5,2],[6,3,9],[2,7,1]])\n",
        "print(a)\n",
        "ai = np.linalg.inv(a)\n",
        "print(ai)"
      ],
      "execution_count": 7,
      "outputs": [
        {
          "output_type": "stream",
          "text": [
            "[[1 5 2]\n",
            " [6 3 9]\n",
            " [2 7 1]]\n",
            "[[-0.83333333  0.125       0.54166667]\n",
            " [ 0.16666667 -0.04166667  0.04166667]\n",
            " [ 0.5         0.04166667 -0.375     ]]\n"
          ],
          "name": "stdout"
        }
      ]
    },
    {
      "cell_type": "code",
      "metadata": {
        "id": "oJ2hEqrod-Jx",
        "colab_type": "code",
        "colab": {
          "base_uri": "https://localhost:8080/",
          "height": 69
        },
        "outputId": "c4a30010-2167-4e86-fd60-f15a9492ac6e"
      },
      "source": [
        "print(a.T)"
      ],
      "execution_count": 8,
      "outputs": [
        {
          "output_type": "stream",
          "text": [
            "[[1 6 2]\n",
            " [5 3 7]\n",
            " [2 9 1]]\n"
          ],
          "name": "stdout"
        }
      ]
    },
    {
      "cell_type": "markdown",
      "metadata": {
        "id": "BVgRREileGOi",
        "colab_type": "text"
      },
      "source": [
        "**A**が正解"
      ]
    },
    {
      "cell_type": "code",
      "metadata": {
        "id": "5-hRz2DfeCTH",
        "colab_type": "code",
        "colab": {}
      },
      "source": [
        ""
      ],
      "execution_count": 0,
      "outputs": []
    }
  ]
}