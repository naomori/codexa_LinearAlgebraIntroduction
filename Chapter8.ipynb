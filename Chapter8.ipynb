{
  "nbformat": 4,
  "nbformat_minor": 0,
  "metadata": {
    "colab": {
      "name": "Chapter8.ipynb",
      "version": "0.3.2",
      "provenance": [],
      "include_colab_link": true
    },
    "kernelspec": {
      "name": "python3",
      "display_name": "Python 3"
    }
  },
  "cells": [
    {
      "cell_type": "markdown",
      "metadata": {
        "id": "view-in-github",
        "colab_type": "text"
      },
      "source": [
        "<a href=\"https://colab.research.google.com/github/naomori/codexa_LinearAlgebraIntroduction/blob/master/Chapter8.ipynb\" target=\"_parent\"><img src=\"https://colab.research.google.com/assets/colab-badge.svg\" alt=\"Open In Colab\"/></a>"
      ]
    },
    {
      "cell_type": "markdown",
      "metadata": {
        "id": "YW14fWUdTuwl",
        "colab_type": "text"
      },
      "source": [
        "# 逆行列と転置行列\n",
        "\n",
        "* 逆行列：$A^{-1} × A = A^{-1} × A = I$\n",
        "* 逆行列は正方行列でしか成立しない"
      ]
    },
    {
      "cell_type": "code",
      "metadata": {
        "id": "8uglrRD7TsqS",
        "colab_type": "code",
        "colab": {}
      },
      "source": [
        "import numpy as np"
      ],
      "execution_count": 0,
      "outputs": []
    },
    {
      "cell_type": "code",
      "metadata": {
        "id": "Q82YV0Q0UeSB",
        "colab_type": "code",
        "colab": {
          "base_uri": "https://localhost:8080/",
          "height": 121
        },
        "outputId": "8b89ca65-a29f-4732-fab3-d386f6d161e9"
      },
      "source": [
        "a = np.array([[1,2], [3,4]])\n",
        "a1 = np.linalg.inv(a)\n",
        "\n",
        "print(a)\n",
        "print(a1)\n",
        "print(a.dot(a1))"
      ],
      "execution_count": 3,
      "outputs": [
        {
          "output_type": "stream",
          "text": [
            "[[1 2]\n",
            " [3 4]]\n",
            "[[-2.   1. ]\n",
            " [ 1.5 -0.5]]\n",
            "[[1.0000000e+00 0.0000000e+00]\n",
            " [8.8817842e-16 1.0000000e+00]]\n"
          ],
          "name": "stdout"
        }
      ]
    },
    {
      "cell_type": "markdown",
      "metadata": {
        "id": "AdWArUfwWsyF",
        "colab_type": "text"
      },
      "source": [
        "#### 転置行列\n",
        "\n",
        "* m行n列の行列Xと、行列Xの転置行列$X^T = Y$としたとき\n",
        "* Yはn行m列の行列となり、要素は$Y_{ij} = X_{ji}$となる"
      ]
    },
    {
      "cell_type": "code",
      "metadata": {
        "id": "J-bt2-QCUlw5",
        "colab_type": "code",
        "colab": {
          "base_uri": "https://localhost:8080/",
          "height": 104
        },
        "outputId": "8ee64276-1081-48f7-b986-f57a004b15a9"
      },
      "source": [
        "X = np.array([[3,1], [2,6], [4,5]])\n",
        "print(X)\n",
        "print(X.T)"
      ],
      "execution_count": 4,
      "outputs": [
        {
          "output_type": "stream",
          "text": [
            "[[3 1]\n",
            " [2 6]\n",
            " [4 5]]\n",
            "[[3 2 4]\n",
            " [1 6 5]]\n"
          ],
          "name": "stdout"
        }
      ]
    },
    {
      "cell_type": "code",
      "metadata": {
        "id": "ekAt7p5JXVfj",
        "colab_type": "code",
        "colab": {
          "base_uri": "https://localhost:8080/",
          "height": 52
        },
        "outputId": "94504cf8-763f-4a19-f9b8-862d412d716f"
      },
      "source": [
        "print(X.shape)\n",
        "print(X.T.shape)"
      ],
      "execution_count": 5,
      "outputs": [
        {
          "output_type": "stream",
          "text": [
            "(3, 2)\n",
            "(2, 3)\n"
          ],
          "name": "stdout"
        }
      ]
    },
    {
      "cell_type": "code",
      "metadata": {
        "id": "g-hgiGuYXc8D",
        "colab_type": "code",
        "colab": {}
      },
      "source": [
        ""
      ],
      "execution_count": 0,
      "outputs": []
    }
  ]
}