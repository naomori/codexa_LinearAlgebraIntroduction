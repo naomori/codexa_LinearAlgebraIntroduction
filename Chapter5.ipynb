{
  "nbformat": 4,
  "nbformat_minor": 0,
  "metadata": {
    "colab": {
      "name": "Chapter5.ipynb",
      "version": "0.3.2",
      "provenance": [],
      "include_colab_link": true
    },
    "kernelspec": {
      "name": "python3",
      "display_name": "Python 3"
    }
  },
  "cells": [
    {
      "cell_type": "markdown",
      "metadata": {
        "id": "view-in-github",
        "colab_type": "text"
      },
      "source": [
        "<a href=\"https://colab.research.google.com/github/naomori/codexa_LinearAlgebraIntroduction/blob/master/Chapter5.ipynb\" target=\"_parent\"><img src=\"https://colab.research.google.com/assets/colab-badge.svg\" alt=\"Open In Colab\"/></a>"
      ]
    },
    {
      "cell_type": "code",
      "metadata": {
        "id": "6A9XGMHZGG2B",
        "colab_type": "code",
        "colab": {}
      },
      "source": [
        "import numpy as np"
      ],
      "execution_count": 0,
      "outputs": []
    },
    {
      "cell_type": "code",
      "metadata": {
        "id": "B4ij6mqlGOAu",
        "colab_type": "code",
        "colab": {}
      },
      "source": [
        "a = np.array([[2,5], [1,9], [0,3]])\n",
        "b = np.array([[2], [3]])\n",
        "c = np.dot(a, b)"
      ],
      "execution_count": 0,
      "outputs": []
    },
    {
      "cell_type": "code",
      "metadata": {
        "id": "9L_PExj-GYUt",
        "colab_type": "code",
        "colab": {
          "base_uri": "https://localhost:8080/",
          "height": 70
        },
        "outputId": "7f621abe-95cf-4373-8508-abba56b463b0"
      },
      "source": [
        "print(a.shape)\n",
        "print(b.shape)\n",
        "print(c.shape)"
      ],
      "execution_count": 14,
      "outputs": [
        {
          "output_type": "stream",
          "text": [
            "(3, 2)\n",
            "(2, 1)\n",
            "(3, 1)\n"
          ],
          "name": "stdout"
        }
      ]
    },
    {
      "cell_type": "markdown",
      "metadata": {
        "id": "Ptg33a_8HoDs",
        "colab_type": "text"
      },
      "source": [
        "# 練習問題\n"
      ]
    },
    {
      "cell_type": "code",
      "metadata": {
        "id": "D_ofm2xNHTqP",
        "colab_type": "code",
        "colab": {}
      },
      "source": [
        "x = np.array([[1,4], [2,0], [8,1], [3,5]])\n",
        "y = np.array([[1], [3]])\n",
        "z = np.dot(x, y)"
      ],
      "execution_count": 0,
      "outputs": []
    },
    {
      "cell_type": "code",
      "metadata": {
        "id": "FYj0Z-NXH8YP",
        "colab_type": "code",
        "colab": {
          "base_uri": "https://localhost:8080/",
          "height": 193
        },
        "outputId": "44f6a6d1-1ccb-4504-83de-040898e82d58"
      },
      "source": [
        "print(x)\n",
        "print(y)\n",
        "print(z)"
      ],
      "execution_count": 16,
      "outputs": [
        {
          "output_type": "stream",
          "text": [
            "[[1 4]\n",
            " [2 0]\n",
            " [8 1]\n",
            " [3 5]]\n",
            "[[1]\n",
            " [3]]\n",
            "[[13]\n",
            " [ 2]\n",
            " [11]\n",
            " [18]]\n"
          ],
          "name": "stdout"
        }
      ]
    },
    {
      "cell_type": "markdown",
      "metadata": {
        "id": "C9IPNaNgIfwQ",
        "colab_type": "text"
      },
      "source": [
        "# 例題\n",
        "\n",
        "身長から体重を求めてみる\n",
        "\n",
        "| 名前 | 身長 |\n",
        "|---|--|\n",
        "|A| 180cm |\n",
        "|B| 176cm|\n",
        "|C|156cm|\n",
        "|D|160cm|\n",
        "\n",
        "$h_\\theta(x) = 15 + 0.32x$\n",
        "\n",
        "\n",
        "\n"
      ]
    },
    {
      "cell_type": "code",
      "metadata": {
        "id": "EC_PINQ1H_ev",
        "colab_type": "code",
        "colab": {
          "base_uri": "https://localhost:8080/",
          "height": 193
        },
        "outputId": "67558c8f-900a-4db1-f813-5d21a3780627"
      },
      "source": [
        "height = np.array([[1,180], [1,176], [1,156], [1,160]])\n",
        "hx = np.array([[15], [0.32]])\n",
        "\n",
        "weight = np.dot(height, hx)\n",
        "\n",
        "print(height)\n",
        "print(hx)\n",
        "print(weight)"
      ],
      "execution_count": 17,
      "outputs": [
        {
          "output_type": "stream",
          "text": [
            "[[  1 180]\n",
            " [  1 176]\n",
            " [  1 156]\n",
            " [  1 160]]\n",
            "[[15.  ]\n",
            " [ 0.32]]\n",
            "[[72.6 ]\n",
            " [71.32]\n",
            " [64.92]\n",
            " [66.2 ]]\n"
          ],
          "name": "stdout"
        }
      ]
    },
    {
      "cell_type": "markdown",
      "metadata": {
        "id": "XbBaM_T7KWfQ",
        "colab_type": "text"
      },
      "source": [
        "バイアスの部分は 1 としてただ足し算になるような行列の形にしておく。"
      ]
    },
    {
      "cell_type": "code",
      "metadata": {
        "id": "sBgGQT2YKOGd",
        "colab_type": "code",
        "colab": {}
      },
      "source": [
        ""
      ],
      "execution_count": 0,
      "outputs": []
    }
  ]
}