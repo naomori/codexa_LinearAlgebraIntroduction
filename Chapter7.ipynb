{
  "nbformat": 4,
  "nbformat_minor": 0,
  "metadata": {
    "colab": {
      "name": "Chapter7.ipynb",
      "version": "0.3.2",
      "provenance": [],
      "include_colab_link": true
    },
    "kernelspec": {
      "name": "python3",
      "display_name": "Python 3"
    }
  },
  "cells": [
    {
      "cell_type": "markdown",
      "metadata": {
        "id": "view-in-github",
        "colab_type": "text"
      },
      "source": [
        "<a href=\"https://colab.research.google.com/github/naomori/codexa_LinearAlgebraIntroduction/blob/master/Chapter7.ipynb\" target=\"_parent\"><img src=\"https://colab.research.google.com/assets/colab-badge.svg\" alt=\"Open In Colab\"/></a>"
      ]
    },
    {
      "cell_type": "markdown",
      "metadata": {
        "id": "cLCeFEPuN6Wk",
        "colab_type": "text"
      },
      "source": [
        "# 行列の積の性質\n",
        "\n",
        "\n",
        "#### 可換則\n",
        "* 行列の積では、可換則は成立しない場合がある\n",
        "* 行列のサイズも異なる場合がある"
      ]
    },
    {
      "cell_type": "code",
      "metadata": {
        "id": "i1SxTn7eN6DV",
        "colab_type": "code",
        "colab": {}
      },
      "source": [
        "import numpy as np"
      ],
      "execution_count": 0,
      "outputs": []
    },
    {
      "cell_type": "code",
      "metadata": {
        "id": "YPrJ5WBmNzs2",
        "colab_type": "code",
        "colab": {}
      },
      "source": [
        "a = np.array([[1,2], [3,4], [5,6]])\n",
        "b = np.array([[5,6, 7], [7,8, 9]])\n",
        "\n",
        "c = np.dot(a, b)\n",
        "d = np.dot(b, a)"
      ],
      "execution_count": 0,
      "outputs": []
    },
    {
      "cell_type": "code",
      "metadata": {
        "id": "OZ33HA2POVHk",
        "colab_type": "code",
        "colab": {
          "base_uri": "https://localhost:8080/",
          "height": 139
        },
        "outputId": "cfc50713-59b2-4fae-8dbf-ab8653d00783"
      },
      "source": [
        "print(c)\n",
        "print(c.shape)\n",
        "print(d)\n",
        "print(d.shape)"
      ],
      "execution_count": 11,
      "outputs": [
        {
          "output_type": "stream",
          "text": [
            "[[19 22 25]\n",
            " [43 50 57]\n",
            " [67 78 89]]\n",
            "(3, 3)\n",
            "[[ 58  76]\n",
            " [ 76 100]]\n",
            "(2, 2)\n"
          ],
          "name": "stdout"
        }
      ]
    },
    {
      "cell_type": "markdown",
      "metadata": {
        "id": "j7zQ4TvTOzp0",
        "colab_type": "text"
      },
      "source": [
        "\n",
        "#### 結合法則\n",
        "\n",
        "* 結合法則は成り立つ"
      ]
    },
    {
      "cell_type": "markdown",
      "metadata": {
        "id": "OqadCSWfPIJo",
        "colab_type": "text"
      },
      "source": [
        "#### 単位行列\n",
        "\n",
        "* A x I = I x A = A が成り立つとき、このIを単位行列という\n",
        "* 対角線上に1が並ぶ\n",
        "\n",
        "#### 逆行列\n",
        "\n",
        "* $A * A^{-1} = A^{-1} * A = I$が成り立つとき、$A^{-1}$を逆行列という。\n",
        "* エーインバースと呼ぶ"
      ]
    },
    {
      "cell_type": "code",
      "metadata": {
        "id": "axiczOkSOXNn",
        "colab_type": "code",
        "colab": {
          "base_uri": "https://localhost:8080/",
          "height": 69
        },
        "outputId": "61eeae82-5e50-4c9d-be23-c58330316ae1"
      },
      "source": [
        "c = a.dot(b)\n",
        "print(c)"
      ],
      "execution_count": 15,
      "outputs": [
        {
          "output_type": "stream",
          "text": [
            "[[19 22 25]\n",
            " [43 50 57]\n",
            " [67 78 89]]\n"
          ],
          "name": "stdout"
        }
      ]
    },
    {
      "cell_type": "code",
      "metadata": {
        "id": "hMlda_m_QK-y",
        "colab_type": "code",
        "colab": {
          "base_uri": "https://localhost:8080/",
          "height": 52
        },
        "outputId": "2ab23a18-f470-45c4-99a4-42fce4d2460a"
      },
      "source": [
        "d = b.dot(a)\n",
        "print(d)"
      ],
      "execution_count": 16,
      "outputs": [
        {
          "output_type": "stream",
          "text": [
            "[[ 58  76]\n",
            " [ 76 100]]\n"
          ],
          "name": "stdout"
        }
      ]
    },
    {
      "cell_type": "markdown",
      "metadata": {
        "id": "BSCTI2z-QksF",
        "colab_type": "text"
      },
      "source": [
        "## 単位行列を numpy で。\n",
        "\n",
        "Numpy.eye を使います。"
      ]
    },
    {
      "cell_type": "code",
      "metadata": {
        "id": "FIi7dBuIQfW7",
        "colab_type": "code",
        "colab": {
          "base_uri": "https://localhost:8080/",
          "height": 52
        },
        "outputId": "688c23fa-7cdd-41d4-c113-bd647f78a4ab"
      },
      "source": [
        "eye = np.eye(2)\n",
        "print(eye)"
      ],
      "execution_count": 18,
      "outputs": [
        {
          "output_type": "stream",
          "text": [
            "[[1. 0.]\n",
            " [0. 1.]]\n"
          ],
          "name": "stdout"
        }
      ]
    },
    {
      "cell_type": "code",
      "metadata": {
        "id": "waJfKEfBQjx_",
        "colab_type": "code",
        "colab": {
          "base_uri": "https://localhost:8080/",
          "height": 86
        },
        "outputId": "d76a33b6-82ba-43df-d5d8-c09b44903085"
      },
      "source": [
        "eye4 = np.eye(4)\n",
        "print(eye4)"
      ],
      "execution_count": 19,
      "outputs": [
        {
          "output_type": "stream",
          "text": [
            "[[1. 0. 0. 0.]\n",
            " [0. 1. 0. 0.]\n",
            " [0. 0. 1. 0.]\n",
            " [0. 0. 0. 1.]]\n"
          ],
          "name": "stdout"
        }
      ]
    },
    {
      "cell_type": "code",
      "metadata": {
        "id": "zFmQmnZYQsxe",
        "colab_type": "code",
        "colab": {
          "base_uri": "https://localhost:8080/",
          "height": 52
        },
        "outputId": "7192d5a8-194e-49ad-d2ba-df5039194686"
      },
      "source": [
        "e = d.dot(eye)\n",
        "print(e)"
      ],
      "execution_count": 20,
      "outputs": [
        {
          "output_type": "stream",
          "text": [
            "[[ 58.  76.]\n",
            " [ 76. 100.]]\n"
          ],
          "name": "stdout"
        }
      ]
    },
    {
      "cell_type": "code",
      "metadata": {
        "id": "Ep2aDHXRQyrV",
        "colab_type": "code",
        "colab": {
          "base_uri": "https://localhost:8080/",
          "height": 52
        },
        "outputId": "a1302fe6-ea08-4068-ea91-f18b7b8c702f"
      },
      "source": [
        "f = np.linalg.inv(e)\n",
        "print(f)"
      ],
      "execution_count": 22,
      "outputs": [
        {
          "output_type": "stream",
          "text": [
            "[[ 4.16666667 -3.16666667]\n",
            " [-3.16666667  2.41666667]]\n"
          ],
          "name": "stdout"
        }
      ]
    },
    {
      "cell_type": "code",
      "metadata": {
        "id": "G7PhNEsBRFeh",
        "colab_type": "code",
        "colab": {
          "base_uri": "https://localhost:8080/",
          "height": 52
        },
        "outputId": "6b021338-514b-437b-8cee-1d9434d858eb"
      },
      "source": [
        "print(e.dot(f))"
      ],
      "execution_count": 23,
      "outputs": [
        {
          "output_type": "stream",
          "text": [
            "[[ 1.00000000e+00 -5.32907052e-15]\n",
            " [-7.81597009e-14  1.00000000e+00]]\n"
          ],
          "name": "stdout"
        }
      ]
    },
    {
      "cell_type": "code",
      "metadata": {
        "id": "VH3suuFARPrX",
        "colab_type": "code",
        "colab": {}
      },
      "source": [
        ""
      ],
      "execution_count": 0,
      "outputs": []
    }
  ]
}