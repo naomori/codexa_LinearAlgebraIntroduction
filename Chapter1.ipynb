{
  "nbformat": 4,
  "nbformat_minor": 0,
  "metadata": {
    "colab": {
      "name": "Chapter1.ipynb",
      "version": "0.3.2",
      "provenance": [],
      "include_colab_link": true
    },
    "kernelspec": {
      "name": "python3",
      "display_name": "Python 3"
    },
    "accelerator": "GPU"
  },
  "cells": [
    {
      "cell_type": "markdown",
      "metadata": {
        "id": "view-in-github",
        "colab_type": "text"
      },
      "source": [
        "<a href=\"https://colab.research.google.com/github/naomori/codexa_LinearAlgebraIntroduction/blob/master/Chapter1.ipynb\" target=\"_parent\"><img src=\"https://colab.research.google.com/assets/colab-badge.svg\" alt=\"Open In Colab\"/></a>"
      ]
    },
    {
      "cell_type": "markdown",
      "metadata": {
        "id": "Ktq6dd16A__d",
        "colab_type": "text"
      },
      "source": [
        "# コース概要と紹介\n",
        "\n",
        "## なぜ機会学習で線形代数を学ぶ必要があるのか？\n",
        "\n",
        "1. データの前処理で線形代数を利用する\n",
        "2.\n",
        "機械学習アルゴリズムの理解が深まる"
      ]
    },
    {
      "cell_type": "code",
      "metadata": {
        "id": "HS5XS3uXA8TL",
        "colab_type": "code",
        "colab": {}
      },
      "source": [
        ""
      ],
      "execution_count": 0,
      "outputs": []
    }
  ]
}